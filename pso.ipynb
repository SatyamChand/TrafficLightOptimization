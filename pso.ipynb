{
 "cells": [
  {
   "cell_type": "raw",
   "metadata": {},
   "source": [
    "#pso"
   ]
  },
  {
   "cell_type": "code",
   "execution_count": 1,
   "metadata": {},
   "outputs": [
    {
     "name": "stdout",
     "output_type": "stream",
     "text": [
      "0.2612038749637414\n"
     ]
    }
   ],
   "source": [
    "import random\n",
    "import numpy as  np\n",
    "import math\n",
    "\n",
    "#range=[0,4] i.e 5 sized grid\n",
    "size=5\n",
    "size-=1\n",
    "def fit(particle,target):\n",
    "    return 1/(1+math.sqrt(abs(target[0]-particle[0])**2+abs(target[1]-particle[1])**2))\n",
    "\n",
    "print(fit((2,1),(4,3)))\n"
   ]
  },
  {
   "cell_type": "code",
   "execution_count": 57,
   "metadata": {},
   "outputs": [
    {
     "name": "stdout",
     "output_type": "stream",
     "text": [
      "[((0, 0), (2, 0), 0), ((2, 1), (0, 0), 1), ((4, 2), (2, 3), 2), ((3, 0), (1, 3), 3), ((1, 2), (2, 4), 4), ((2, 4), (0, 2), 5), ((0, 2), (4, 4), 6), ((2, 1), (2, 0), 7), ((2, 4), (0, 2), 8), ((1, 1), (2, 3), 9), ((4, 1), (3, 0), 10), ((2, 3), (2, 2), 11), ((3, 4), (2, 0), 12), ((0, 0), (2, 0), 13), ((1, 4), (4, 4), 14), ((1, 3), (0, 2), 15), ((0, 0), (0, 2), 16), ((3, 1), (3, 4), 17), ((1, 2), (0, 0), 18), ((3, 4), (4, 2), 19), ((4, 3), (2, 3), 20), ((2, 1), (0, 0), 21), ((4, 2), (2, 4), 22), ((3, 3), (0, 3), 23), ((0, 0), (4, 4), 24), ((2, 1), (0, 0), 25), ((0, 2), (3, 0), 26), ((0, 0), (0, 1), 27), ((2, 1), (2, 4), 28), ((0, 0), (2, 0), 29), ((0, 0), (4, 1), 30), ((4, 0), (0, 0), 31), ((0, 0), (2, 4), 32), ((2, 4), (3, 0), 33), ((2, 3), (2, 4), 34), ((0, 0), (1, 0), 35), ((2, 3), (1, 0), 36), ((0, 2), (0, 0), 37), ((4, 2), (0, 0), 38), ((4, 2), (1, 3), 39), ((2, 3), (2, 1), 40), ((4, 0), (2, 0), 41), ((3, 3), (0, 0), 42), ((0, 1), (4, 0), 43), ((2, 0), (1, 4), 44), ((0, 0), (3, 1), 45), ((4, 1), (2, 1), 46), ((2, 4), (3, 3), 47), ((2, 4), (0, 0), 48), ((1, 1), (2, 1), 49), ((2, 4), (4, 4), 50), ((1, 4), (0, 1), 51), ((0, 3), (2, 1), 52), ((0, 1), (2, 4), 53), ((2, 2), (0, 0), 54), ((0, 3), (1, 2), 55), ((1, 4), (0, 0), 56), ((0, 3), (0, 0), 57), ((4, 4), (0, 0), 58), ((2, 4), (4, 3), 59), ((2, 4), (0, 0), 60), ((0, 0), (2, 1), 61), ((3, 4), (0, 4), 62), ((2, 0), (2, 3), 63), ((2, 4), (3, 3), 64), ((0, 4), (0, 0), 65), ((2, 4), (4, 2), 66), ((4, 1), (2, 1), 67), ((2, 0), (3, 1), 68), ((1, 0), (2, 4), 69), ((3, 4), (2, 4), 70), ((3, 0), (3, 2), 71), ((3, 4), (2, 4), 72), ((0, 0), (2, 3), 73), ((3, 2), (0, 1), 74), ((0, 2), (0, 4), 75), ((1, 2), (4, 2), 76), ((0, 0), (1, 0), 77), ((2, 2), (2, 3), 78), ((4, 3), (2, 4), 79), ((1, 0), (2, 2), 80), ((2, 1), (2, 2), 81), ((3, 4), (2, 2), 82), ((0, 3), (0, 0), 83), ((2, 4), (1, 4), 84), ((1, 4), (0, 0), 85), ((0, 0), (3, 1), 86), ((1, 3), (4, 4), 87), ((2, 4), (1, 2), 88), ((3, 0), (2, 3), 89), ((0, 1), (2, 4), 90), ((4, 4), (4, 3), 91), ((3, 0), (0, 0), 92), ((2, 4), (4, 3), 93), ((1, 4), (1, 0), 94), ((4, 2), (0, 3), 95), ((3, 4), (3, 3), 96), ((4, 4), (2, 0), 97), ((3, 1), (2, 2), 98), ((4, 2), (1, 1), 99)]\n"
     ]
    }
   ],
   "source": [
    "veh=[]\n",
    "\n",
    "for _ in range(100):\n",
    "    i=random.randint(0,size+1)\n",
    "    j=random.randint(0,size+1)\n",
    "    x=random.randint(0,size+1)\n",
    "    y=random.randint(0,size+1)\n",
    "    if i==size+1:\n",
    "        i,j=0,0\n",
    "    elif j==size+1:\n",
    "        i,j=2,size\n",
    "    if x==size+1:\n",
    "        x,y=0,0\n",
    "    elif y==size+1:\n",
    "        x,y=2,size\n",
    "    while (i,j)==(x,y) :\n",
    "        j=random.randint(0,size)\n",
    "    veh.append(((i,j),(x,y),_))\n",
    "    \n",
    "print(veh)"
   ]
  },
  {
   "cell_type": "code",
   "execution_count": 3,
   "metadata": {},
   "outputs": [
    {
     "name": "stdout",
     "output_type": "stream",
     "text": [
      "[((0, 1), (2, 4), 0), ((3, 5), (2, 3), 1), ((1, 2), (1, 3), 2), ((3, 4), (3, 3), 3), ((1, 5), (1, 0), 4)]\n"
     ]
    }
   ],
   "source": [
    "#for sample testing of search particles\n",
    "veh=[]\n",
    "\n",
    "for _ in range(5):\n",
    "    i=random.randint(0,5)\n",
    "    j=random.randint(0,5)\n",
    "    x=random.randint(0,5)\n",
    "    y=random.randint(0,5)\n",
    "    while (i,j)==(x,y) :\n",
    "        j=random.randint(0,5)\n",
    "    veh.append(((i,j),(x,y),_))\n",
    "    \n",
    "print(veh)"
   ]
  },
  {
   "cell_type": "code",
   "execution_count": 64,
   "metadata": {},
   "outputs": [
    {
     "name": "stdout",
     "output_type": "stream",
     "text": [
      "0\n"
     ]
    }
   ],
   "source": [
    "count=0\n",
    "\n",
    "def find_path(particles,target):\n",
    "    global count\n",
    "    path=[]\n",
    "    best=[0,0,0]\n",
    "    #for particle in particles:\n",
    "        #print(particle)\n",
    "    for particle in particles:\n",
    "        cur=[(particle[0],particle[1])]\n",
    "        if particle[0]+particle[2]>size or particle[0]+particle[2]<0:\n",
    "            particle[2]=0\n",
    "        if particle[1]+particle[3]>size or particle[1]+particle[3]<0:\n",
    "            particle[3]=0\n",
    "        particle[0]+=particle[2]\n",
    "        particle[1]+=particle[3]\n",
    "        f=fit(particle,target)\n",
    "        if f>best[0]:\n",
    "            best[:]=f,particle[0],particle[1]\n",
    "        cur.append((particle[0],particle[1]))\n",
    "        path.append(cur)\n",
    "        #print(cur,'-')\n",
    "    #print('path=',path)\n",
    "    #print(particles)\n",
    "    found=4\n",
    "    cbest=[0,0,0]\n",
    "    x=40\n",
    "    while found==4:\n",
    "        #print('iteration')\n",
    "        best=cbest\n",
    "        for i in range(4):\n",
    "            xp,yp=target[0]-particles[i][0],target[1]-particles[i][1]\n",
    "            chk=math.sqrt(xp**2+yp**2)\n",
    "            if chk>1:\n",
    "                n=1/chk\n",
    "                xp,yp=xp*n,yp*n\n",
    "            xg,yg=best[1]-particles[i][0],best[2]-particles[i][1]\n",
    "            chk=math.sqrt(xg**2+yg**2)\n",
    "            if chk>1:\n",
    "                n=1/chk\n",
    "                xg,yg=xg*n,yg*n\n",
    "            xres,yres=particles[i][2]+xp+xg,particles[i][3]+yp+yg\n",
    "            chk=math.sqrt(xres**2+yres**2)\n",
    "            if chk>1:\n",
    "                n=1/chk\n",
    "                xres,yres=xres*n,yres*n\n",
    "            particles[i][2],particles[i][3]=xres,yres\n",
    "            if particles[i][0]+particles[i][2]>size or particles[i][0]+particles[i][2]<0:\n",
    "                particles[i][2]=0\n",
    "            if particles[i][1]+particles[i][3]>size or particles[i][1]+particles[i][3]<0:\n",
    "                particles[i][3]=0\n",
    "            particles[i][0],particles[i][1]=particle[0]+particle[2],particle[1]+particle[3]\n",
    "            pbest=[particles[i][0]+xp,particles[i][1]+yp]\n",
    "            f=fit(pbest,target)\n",
    "            if f>cbest[0]:\n",
    "                cbest[1:]=particles[i][:2]\n",
    "                cbest[0]=f\n",
    "            f=fit(particles[i],target)\n",
    "            #print('particle ',i,'at ', particles[i][:2],', fitness=',f)\n",
    "            path[i].append((particles[i][0],particles[i][1]))\n",
    "            if f>=0.9:\n",
    "                found=i\n",
    "            #print(f)\n",
    "        best=cbest\n",
    "        #print(best)\n",
    "        x-=1\n",
    "        if x==0 :\n",
    "            break\n",
    "    #print(\"found=\",found)\n",
    "    if found==4:\n",
    "        count+=1\n",
    "        return [(0,0),(0,0)]\n",
    "    return path[found]\n",
    "    \n",
    "\n",
    "particle=[]\n",
    "boid_paths=[]\n",
    "for v in veh:\n",
    "    path_search_particles=[]\n",
    "    i,j=v[0]\n",
    "    #print(v)\n",
    "    for _ in range(4):\n",
    "        x=random.random()-0.5\n",
    "        y=random.random()-0.5\n",
    "        r=math.sqrt(x**2+y**2)\n",
    "        n=1/r\n",
    "        search_particle=[i,j,x*n,y*n]\n",
    "        path_search_particles.append(search_particle)\n",
    "        #print(search_particle[2],search_particle[3],'.')\n",
    "    #print(path_search_particles)\n",
    "    path=find_path(path_search_particles,v[1])\n",
    "    #print(path)\n",
    "    boid_paths.append(path)\n",
    "    \n",
    "print(count)"
   ]
  },
  {
   "cell_type": "code",
   "execution_count": 65,
   "metadata": {},
   "outputs": [
    {
     "name": "stdout",
     "output_type": "stream",
     "text": [
      "[[[100], [100], [100], [100]], [[100], [100], [100], [100]], [[100], [100], [100], [100]], [[100], [100], [100], [100]], [[100], [100], [100], [100]], [[100], [100], [100], [100]], [[100], [100], [100], [100]], [[100], [100], [100], [100]], [[100], [100], [100], [100]], [[100], [100], [100], [100]], [[100], [100], [100], [100]], [[100], [100], [100], [100]], [[100], [100], [100], [100]], [[100], [100], [100], [100]], [[100], [100], [100], [100]], [[100], [100], [100], [100]]]\n"
     ]
    }
   ],
   "source": [
    "lanes=[[[100],[100],[100],[100]] for _ in range(size*size)]\n",
    "print(lanes)"
   ]
  },
  {
   "cell_type": "code",
   "execution_count": 65,
   "metadata": {},
   "outputs": [
    {
     "name": "stdout",
     "output_type": "stream",
     "text": [
      "[[1, 0, 5, 5, 5, 5], [1, 0, 5, 5, 5, 5], [1, 0, 5, 5, 5, 5], [1, 0, 5, 5, 5, 5], [1, 0, 5, 5, 5, 5], [1, 0, 5, 5, 5, 5], [1, 0, 5, 5, 5, 5], [1, 0, 5, 5, 5, 5], [1, 0, 5, 5, 5, 5], [1, 0, 5, 5, 5, 5], [1, 0, 5, 5, 5, 5], [1, 0, 5, 5, 5, 5], [1, 0, 5, 5, 5, 5], [1, 0, 5, 5, 5, 5], [1, 0, 5, 5, 5, 5], [1, 0, 5, 5, 5, 5], [1, 0, 5, 5, 5, 5], [1, 0, 5, 5, 5, 5], [1, 0, 5, 5, 5, 5], [1, 0, 5, 5, 5, 5], [1, 0, 5, 5, 5, 5], [1, 0, 5, 5, 5, 5], [1, 0, 5, 5, 5, 5], [1, 0, 5, 5, 5, 5], [1, 0, 5, 5, 5, 5]]\n"
     ]
    }
   ],
   "source": [
    "signal=[]\n",
    "for _ in range((size+1)*(size+1)):\n",
    "    signal.append([1,0,5,5,5,5])\n",
    "\n",
    "print(signal)"
   ]
  },
  {
   "cell_type": "code",
   "execution_count": 75,
   "metadata": {},
   "outputs": [
    {
     "name": "stdout",
     "output_type": "stream",
     "text": [
      "100\n",
      "4581\n"
     ]
    }
   ],
   "source": [
    "vehpos=[]\n",
    "for v in veh:\n",
    "    vehpos.append((list(v[0]),v[1],v[2]))\n",
    "    \n",
    "lanes=[[[-1],[-1],[-1],[-1]] for _ in range((size+1)*(size+1))]\n",
    "#print(lanes)\n",
    "#print(veh[0])\n",
    "#print(vehpos)\n",
    "\n",
    "for vehicle in vehpos:\n",
    "    x,y=vehicle[1][0]-vehicle[0][0],vehicle[1][1]-vehicle[0][1]\n",
    "    #print(vehicle)\n",
    "    h,v=1,1\n",
    "    if x<0:\n",
    "        v=-1\n",
    "    if y<0:\n",
    "        h=-1\n",
    "    ch=math.sqrt(abs(x))/(math.sqrt(abs(x))+math.sqrt(abs(y)))\n",
    "    '''\n",
    "    print(vehicle[0][0])\n",
    "    print(vehicle[0][1])\n",
    "    print(vehicle[2])\n",
    "    print(vehicle[0][0]*5+vehicle[0][1],len(lanes))\n",
    "    print(lanes[vehicle[0][0]*5+vehicle[0][1]][0])\n",
    "    '''\n",
    "    if random.random()<=ch:\n",
    "        choice=0\n",
    "        vehicle[0][0]+=v\n",
    "        if v==1:\n",
    "            lanes[vehicle[0][0]*size+vehicle[0][1]][2].append(vehicle[2])\n",
    "        else:\n",
    "            lanes[vehicle[0][0]*size+vehicle[0][1]][0].append(vehicle[2])\n",
    "    else:\n",
    "        choice=1\n",
    "        vehicle[0][1]+=h\n",
    "        if h==1:\n",
    "            lanes[vehicle[0][0]*size+vehicle[0][1]][3].append(vehicle[2])\n",
    "        else:\n",
    "            lanes[vehicle[0][0]*size+vehicle[0][1]][1].append(vehicle[2])\n",
    "    #print(vehicle)\n",
    "\n",
    "#print(lanes)\n",
    "#print(vehpos)\n",
    "count=0\n",
    "cost=100\n",
    "#print(signal)\n",
    "for _ in range(200):\n",
    "    for i in range(len(lanes)):\n",
    "        signal[i][0]-=1\n",
    "        if signal[i][0]==0:\n",
    "            signal[i][1]+=1\n",
    "            signal[i][1]%=4\n",
    "            signal[i][0]=signal[i][2+signal[i][1]]\n",
    "        #print(i,signal[i])\n",
    "        if len(lanes[i][signal[i][1]])>1:\n",
    "            vh=lanes[i][signal[i][1]][1]\n",
    "            #print(vh,lanes[i][signal[i][1]],end='')\n",
    "            lanes[i][signal[i][1]].pop(1)\n",
    "            #print(lanes[i][signal[i][1]])\n",
    "            #print(vehpos[vh],'->',end='')\n",
    "            x,y=vehpos[vh][1][0]-vehpos[vh][0][0],vehpos[vh][1][1]-vehpos[vh][0][1]\n",
    "            #print(vehpos[vh][1],' , ',vehpos[vh][0])\n",
    "            #print(vehpos[vh][1][0],'-',vehpos[vh][0][0],' , ',vehpos[vh][1][1],'-',vehpos[vh][0][1])\n",
    "            #print(x,y)\n",
    "            if x!=0 or y!=0:                                 #x for vertical, y for horizontal\n",
    "                h,v=1,1\n",
    "                if x<0:\n",
    "                    v=-1\n",
    "                if y<0:\n",
    "                    h=-1\n",
    "                ch=math.sqrt(abs(x))/(math.sqrt(abs(x))+math.sqrt(abs(y)))\n",
    "                if random.random()<=ch:\n",
    "                    vehpos[vh][0][0]+=v\n",
    "                    if v==1:\n",
    "                        lanes[vehpos[vh][0][0]*(size+1)+vehpos[vh][0][0]][2].append(vh)\n",
    "                    else:\n",
    "                        lanes[vehpos[vh][0][0]*(size+1)+vehpos[vh][0][0]][0].append(vh)\n",
    "                else:\n",
    "                    vehpos[vh][0][1]+=h\n",
    "                    if h==1:\n",
    "                        lanes[vehpos[vh][0][0]*(size+1)+vehpos[vh][0][0]][3].append(vh)\n",
    "                    else:\n",
    "                        lanes[vehpos[vh][0][0]*(size+1)+vehpos[vh][0][0]][1].append(vh)\n",
    "                #print(vehpos[vh])\n",
    "            else:\n",
    "                count+=1\n",
    "        #else:\n",
    "            #print('empty')\n",
    "    cost+=(100-count)\n",
    "    if count==100:\n",
    "        break\n",
    "                        \n",
    "print(count)\n",
    "print(cost)"
   ]
  },
  {
   "cell_type": "code",
   "execution_count": 76,
   "metadata": {},
   "outputs": [
    {
     "name": "stdout",
     "output_type": "stream",
     "text": [
      "[[ 5.33700243  7.60645061  8.70419528  6.65774165]\n",
      " [ 5.95011239 13.03690445 11.03273268 10.81777948]\n",
      " [ 6.33527929 13.89060769  9.28083081 10.12586813]\n",
      " [ 5.41530414  9.99638759  8.0069251   7.53691831]\n",
      " [14.26371369 12.60891971 15.89898784 10.04276844]\n",
      " [11.4162178  13.32352569 12.73963873 10.91301945]\n",
      " [12.46794984 13.46431179 12.76390302 11.02803784]\n",
      " [14.23294924 12.13865727 12.91095153  9.71544063]\n",
      " [13.73627242 12.31574284 14.28607313 10.27545603]\n",
      " [12.02046766 11.27740774 11.02593531  9.98725986]\n",
      " [13.79893736 11.6205721  14.78706171 10.48985658]\n",
      " [11.609618   11.11598538 10.89366572 10.20561614]\n",
      " [11.14311741  9.73344934 10.8653758  10.0096996 ]\n",
      " [ 8.95842263  7.13085626  9.3601144   8.45125931]\n",
      " [ 7.31596099  7.67473024  8.01234064  7.19490588]\n",
      " [ 8.0765611   7.75506087  7.52366644  7.1348493 ]\n",
      " [ 8.05472466  6.6972575   7.93812129  6.08667268]\n",
      " [ 4.70727272  3.84705238  3.72508949  4.39196866]\n",
      " [ 4.95268745  4.72484858  4.30183486  4.37998423]\n",
      " [ 4.80796993  5.0131665   4.18451124  4.57406058]\n",
      " [ 3.80805353  3.30531863  3.47184183  3.07421312]\n",
      " [ 0.          0.          0.          0.        ]\n",
      " [ 0.          0.          0.          0.        ]\n",
      " [ 0.          0.          0.          0.        ]\n",
      " [ 0.          0.          0.          0.        ]]\n"
     ]
    }
   ],
   "source": [
    "#print(boid_paths)\n",
    "#mod_lanes=[[1,0,1,1,1,1] for _ in range((size+1)*(size+1))]\n",
    "mod_lanes=np.zeros(((size+1)*(size+1),4))\n",
    "#print(size)\n",
    "#print(len(mod_lanes))\n",
    "\n",
    "for boid_path in boid_paths:\n",
    "    tmp_w=np.zeros(((size+1)*(size+1),4))\n",
    "    #print(tmp_w,'###')\n",
    "    for z in range(len(boid_path)-1):\n",
    "        x,y=boid_path[z+1][0]-boid_path[z][0],boid_path[z+1][1]-boid_path[z][1]\n",
    "        for i in range(size+1):\n",
    "            for j in range(size+1):\n",
    "                #print(i,j,end='')\n",
    "                f=fit(boid_path[z],[i,j])\n",
    "                #print(f)\n",
    "                if f>0.25 and f!=1:\n",
    "                    v=0\n",
    "                    if x>0:\n",
    "                        v=2\n",
    "                    tmp_w[i*size+j][v]=max(tmp_w[i*(size+1)+j][v],abs(x)*(f**2))\n",
    "                    h=1\n",
    "                    if x>0:\n",
    "                        h=3\n",
    "                    tmp_w[i*size+j][h]=max(tmp_w[i*(size+1)+j][h],abs(y)*(f**2))\n",
    "    #print(tmp_w,'----------------------------------------------------')\n",
    "    mod_lanes+=tmp_w\n",
    "\n",
    "print(mod_lanes)"
   ]
  },
  {
   "cell_type": "code",
   "execution_count": 77,
   "metadata": {},
   "outputs": [],
   "source": [
    "mod_lanes=mod_lanes/4"
   ]
  },
  {
   "cell_type": "code",
   "execution_count": 78,
   "metadata": {},
   "outputs": [
    {
     "name": "stdout",
     "output_type": "stream",
     "text": [
      "[[1, 0, 2.0, 3.0, 3.0, 3.0], [1, 0, 2.0, 4.0, 4.0, 4.0], [1, 0, 3.0, 4.0, 3.0, 4.0], [1, 0, 2.0, 3.0, 3.0, 3.0], [1, 0, 5.0, 4.0, 5.0, 4.0], [1, 0, 4.0, 4.0, 4.0, 4.0], [1, 0, 4.0, 4.0, 4.0, 4.0], [1, 0, 5.0, 4.0, 4.0, 3.0], [1, 0, 4.0, 4.0, 5.0, 4.0], [1, 0, 4.0, 4.0, 4.0, 3.0], [1, 0, 4.0, 4.0, 5.0, 4.0], [1, 0, 4.0, 4.0, 4.0, 4.0], [1, 0, 4.0, 3.0, 4.0, 4.0], [1, 0, 3.0, 3.0, 3.0, 3.0], [1, 0, 3.0, 3.0, 3.0, 3.0], [1, 0, 3.0, 3.0, 3.0, 3.0], [1, 0, 3.0, 3.0, 3.0, 3.0], [1, 0, 2.0, 2.0, 2.0, 2.0], [1, 0, 2.0, 2.0, 2.0, 2.0], [1, 0, 2.0, 2.0, 2.0, 2.0], [1, 0, 2.0, 2.0, 2.0, 2.0], [1, 0, 1.0, 1.0, 1.0, 1.0], [1, 0, 1.0, 1.0, 1.0, 1.0], [1, 0, 1.0, 1.0, 1.0, 1.0], [1, 0, 1.0, 1.0, 1.0, 1.0]]\n",
      "25\n"
     ]
    }
   ],
   "source": [
    "signal=[]\n",
    "for _ in range((size+1)*(size+1)):\n",
    "    signal.append([1,0,1+round(mod_lanes[_][0]),1+round(mod_lanes[_][1]),1+round(mod_lanes[_][2]),1+round(mod_lanes[_][3])])\n",
    "\n",
    "print(signal)\n",
    "print(len(signal))"
   ]
  },
  {
   "cell_type": "code",
   "execution_count": 88,
   "metadata": {},
   "outputs": [
    {
     "name": "stdout",
     "output_type": "stream",
     "text": [
      "[[1, 0, 2.0, 3.0, 3.0, 3.0], [2, 1, 2.0, 4.0, 4.0, 4.0], [3, 1, 3.0, 4.0, 3.0, 4.0], [1, 2, 2.0, 3.0, 3.0, 3.0], [5.0, 2, 5.0, 4.0, 5.0, 4.0], [2, 3, 4.0, 4.0, 4.0, 4.0], [2, 2, 4.0, 4.0, 4.0, 4.0], [3, 2, 5.0, 4.0, 4.0, 3.0], [1, 3, 4.0, 4.0, 5.0, 4.0], [2, 2, 4.0, 4.0, 4.0, 3.0], [2, 2, 4.0, 4.0, 5.0, 4.0], [4.0, 1, 4.0, 4.0, 4.0, 4.0], [2, 3, 4.0, 3.0, 4.0, 4.0], [3, 3, 3.0, 3.0, 3.0, 3.0], [3, 3, 3.0, 3.0, 3.0, 3.0], [3.0, 1, 3.0, 3.0, 3.0, 3.0], [3.0, 2, 3.0, 3.0, 3.0, 3.0], [1, 3, 2.0, 2.0, 2.0, 2.0], [1, 2, 2.0, 2.0, 2.0, 2.0], [2.0, 1, 2.0, 2.0, 2.0, 2.0], [1, 0, 2.0, 2.0, 2.0, 2.0], [1, 3, 1.0, 1.0, 1.0, 1.0], [1, 3, 1.0, 1.0, 1.0, 1.0], [1, 3, 1.0, 1.0, 1.0, 1.0], [1, 3, 1.0, 1.0, 1.0, 1.0]]\n",
      "100\n",
      "4180\n"
     ]
    }
   ],
   "source": [
    "vehpos=[]\n",
    "for v in veh:\n",
    "    vehpos.append((list(v[0]),v[1],v[2]))\n",
    "    \n",
    "lanes=[[[-1],[-1],[-1],[-1]] for _ in range((size+1)*(size+1))]\n",
    "#print(lanes)\n",
    "#print(veh[0])\n",
    "#print(vehpos)\n",
    "\n",
    "for vehicle in vehpos:\n",
    "    x,y=vehicle[1][0]-vehicle[0][0],vehicle[1][1]-vehicle[0][1]\n",
    "    #print(vehicle)\n",
    "    h,v=1,1\n",
    "    if x<0:\n",
    "        v=-1\n",
    "    if y<0:\n",
    "        h=-1\n",
    "    ch=math.sqrt(abs(x))/(math.sqrt(abs(x))+math.sqrt(abs(y)))\n",
    "    '''\n",
    "    print(vehicle[0][0])\n",
    "    print(vehicle[0][1])\n",
    "    print(vehicle[2])\n",
    "    print(vehicle[0][0]*5+vehicle[0][1],len(lanes))\n",
    "    print(lanes[vehicle[0][0]*5+vehicle[0][1]][0])\n",
    "    '''\n",
    "    if random.random()<=ch:\n",
    "        choice=0\n",
    "        vehicle[0][0]+=v\n",
    "        if v==1:\n",
    "            lanes[vehicle[0][0]*size+vehicle[0][1]][2].append(vehicle[2])\n",
    "        else:\n",
    "            lanes[vehicle[0][0]*size+vehicle[0][1]][0].append(vehicle[2])\n",
    "    else:\n",
    "        choice=1\n",
    "        vehicle[0][1]+=h\n",
    "        if h==1:\n",
    "            lanes[vehicle[0][0]*size+vehicle[0][1]][3].append(vehicle[2])\n",
    "        else:\n",
    "            lanes[vehicle[0][0]*size+vehicle[0][1]][1].append(vehicle[2])\n",
    "    #print(vehicle)\n",
    "\n",
    "for i in range(len(lanes)):\n",
    "    maxlane=len(lanes[i][0])\n",
    "    for j in range(1,3):\n",
    "        if len(lanes[i][j])>maxlane:\n",
    "            signal[i][1]=j\n",
    "    signal[i][0]=min(len(lanes[i][signal[i][1]]),signal[i][signal[i][1]+2])\n",
    "    \n",
    "#print(lanes)\n",
    "#print(vehpos)\n",
    "count=0\n",
    "cost=100\n",
    "print(signal)\n",
    "for _ in range(500):\n",
    "    for i in range(len(lanes)):\n",
    "        signal[i][0]-=1\n",
    "        if signal[i][0]<1:\n",
    "            signal[i][1]+=1\n",
    "            signal[i][1]%=4\n",
    "            signal[i][0]=signal[i][2+signal[i][1]]\n",
    "        #print(i,signal[i])\n",
    "        if len(lanes[i][signal[i][1]])>1:\n",
    "            vh=lanes[i][signal[i][1]][1]\n",
    "            #print(vh,lanes[i][signal[i][1]],end='')\n",
    "            lanes[i][signal[i][1]].pop(1)\n",
    "            #print(lanes[i][signal[i][1]])\n",
    "            #print(vehpos[vh],'->',end='')\n",
    "            x,y=vehpos[vh][1][0]-vehpos[vh][0][0],vehpos[vh][1][1]-vehpos[vh][0][1]\n",
    "            #print(vehpos[vh][1],' , ',vehpos[vh][0])\n",
    "            #print(vehpos[vh][1][0],'-',vehpos[vh][0][0],' , ',vehpos[vh][1][1],'-',vehpos[vh][0][1])\n",
    "            #print(x,y)\n",
    "            if x!=0 or y!=0:                                 #x for vertical, y for horizontal\n",
    "                h,v=1,1\n",
    "                if x<0:\n",
    "                    v=-1\n",
    "                if y<0:\n",
    "                    h=-1\n",
    "                ch=math.sqrt(abs(x))/(math.sqrt(abs(x))+math.sqrt(abs(y)))\n",
    "                if random.random()<=ch:\n",
    "                    vehpos[vh][0][0]+=v\n",
    "                    if v==1:\n",
    "                        lanes[vehpos[vh][0][0]*(size+1)+vehpos[vh][0][0]][2].append(vh)\n",
    "                    else:\n",
    "                        lanes[vehpos[vh][0][0]*(size+1)+vehpos[vh][0][0]][0].append(vh)\n",
    "                else:\n",
    "                    vehpos[vh][0][1]+=h\n",
    "                    if h==1:\n",
    "                        lanes[vehpos[vh][0][0]*(size+1)+vehpos[vh][0][0]][3].append(vh)\n",
    "                    else:\n",
    "                        lanes[vehpos[vh][0][0]*(size+1)+vehpos[vh][0][0]][1].append(vh)\n",
    "                #print(vehpos[vh])\n",
    "            else:\n",
    "                count+=1\n",
    "        #else:\n",
    "            #print('empty')\n",
    "    cost+=(100-count)\n",
    "    if count==100:\n",
    "        break\n",
    "                        \n",
    "print(count)\n",
    "print(cost)"
   ]
  },
  {
   "cell_type": "code",
   "execution_count": 53,
   "metadata": {},
   "outputs": [
    {
     "name": "stdout",
     "output_type": "stream",
     "text": [
      "[[1, 0, 5, 5, 5, 5], [1, 0, 5, 5, 5, 5], [1, 0, 5, 5, 5, 5], [1, 0, 5, 5, 5, 5], [1, 0, 5, 5, 5, 5], [1, 0, 5, 5, 5, 5], [1, 0, 5, 5, 5, 5], [1, 0, 5, 5, 5, 5], [1, 0, 5, 5, 5, 5], [1, 0, 5, 5, 5, 5], [1, 0, 5, 5, 5, 5], [1, 0, 5, 5, 5, 5], [1, 0, 5, 5, 5, 5], [1, 0, 5, 5, 5, 5], [1, 0, 5, 5, 5, 5], [1, 0, 5, 5, 5, 5], [1, 0, 5, 5, 5, 5], [1, 0, 5, 5, 5, 5], [1, 0, 5, 5, 5, 5], [1, 0, 5, 5, 5, 5], [1, 0, 5, 5, 5, 5], [1, 0, 5, 5, 5, 5], [1, 0, 5, 5, 5, 5], [1, 0, 5, 5, 5, 5], [1, 0, 5, 5, 5, 5]]\n"
     ]
    }
   ],
   "source": []
  }
 ],
 "metadata": {
  "kernelspec": {
   "display_name": "Python 3",
   "language": "python",
   "name": "python3"
  },
  "language_info": {
   "codemirror_mode": {
    "name": "ipython",
    "version": 3
   },
   "file_extension": ".py",
   "mimetype": "text/x-python",
   "name": "python",
   "nbconvert_exporter": "python",
   "pygments_lexer": "ipython3",
   "version": "3.7.4"
  }
 },
 "nbformat": 4,
 "nbformat_minor": 4
}
